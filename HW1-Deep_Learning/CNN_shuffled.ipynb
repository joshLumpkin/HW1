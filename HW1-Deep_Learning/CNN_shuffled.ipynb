{
 "cells": [
  {
   "cell_type": "code",
   "execution_count": 1,
   "id": "41e3e2ef-659a-4d76-8ef0-0c59f139ce07",
   "metadata": {},
   "outputs": [],
   "source": [
    "#Install Dependencies\n",
    "\n",
    "import torch\n",
    "import torchvision\n",
    "import torchvision.transforms as transforms\n",
    "from torch.utils.data import DataLoader, Dataset\n",
    "import numpy as np\n",
    "import torch.nn as nn\n",
    "import torch.optim as optim\n",
    "import matplotlib.pyplot as plt"
   ]
  },
  {
   "cell_type": "code",
   "execution_count": 2,
   "id": "2693e980-c5c4-4818-8935-b575ea5c6666",
   "metadata": {},
   "outputs": [
    {
     "name": "stderr",
     "output_type": "stream",
     "text": [
      "/home/jtlumpk/.local/lib/python3.9/site-packages/torchvision/datasets/mnist.py:498: UserWarning: The given NumPy array is not writeable, and PyTorch does not support non-writeable tensors. This means you can write to the underlying (supposedly non-writeable) NumPy array using the tensor. You may want to copy the array to protect its data or make it writeable before converting it to a tensor. This type of warning will be suppressed for the rest of this program. (Triggered internally at  /pytorch/torch/csrc/utils/tensor_numpy.cpp:180.)\n",
      "  return torch.from_numpy(parsed.astype(m[2], copy=False)).view(*s)\n"
     ]
    }
   ],
   "source": [
    "# Give random label\n",
    "class RandomLabelDataset(Dataset):\n",
    "    def __init__(self, mnist_dataset):\n",
    "        self.mnist_dataset = mnist_dataset\n",
    "        self.rand_labels = torch.randint(0, 10, (len(mnist_dataset),))\n",
    "\n",
    "    def __len__(self):\n",
    "        return len(self.mnist_dataset)\n",
    "\n",
    "    def __getitem__(self, idx):\n",
    "        img, _ = self.mnist_dataset[idx]\n",
    "        return img, self.rand_labels[idx]\n",
    "\n",
    "device = torch.device(\"cuda:0\" if torch.cuda.is_available() else \"cpu\")\n",
    "transform = transforms.Compose([transforms.ToTensor(), transforms.Normalize((0.5,), (0.5,))])\n",
    "\n",
    "# Load MNIST dataset\n",
    "mnist_trainset = torchvision.datasets.MNIST(root='./data', train=True, download=True, transform=transform)\n",
    "mnist_testset = torchvision.datasets.MNIST(root='./data', train=False, download=True, transform=transform)\n",
    "\n",
    "\n",
    "# Apply random labels\n",
    "trainset_random_labels = RandomLabelDataset(mnist_trainset)\n",
    "\n",
    "\n",
    "# Just giving the training random labels\n",
    "trainloader = DataLoader(trainset_random_labels, batch_size=64, shuffle=True)\n",
    "testloader = DataLoader(mnist_testset, batch_size=64, shuffle=False)"
   ]
  },
  {
   "cell_type": "code",
   "execution_count": 3,
   "id": "1d3051c5-b3c5-4b33-8e1c-54993025b6ee",
   "metadata": {},
   "outputs": [
    {
     "data": {
      "image/png": "[encoded data removed]",
      "text/plain": [
       "<Figure size 432x288 with 1 Axes>"
      ]
     },
     "metadata": {
      "needs_background": "light"
     },
     "output_type": "display_data"
    },
    {
     "name": "stdout",
     "output_type": "stream",
     "text": [
      "Shuffled Labels:      2     7     4     4     6     1     6     1     8     1\n"
     ]
    }
   ],
   "source": [
    "# Function to show an image\n",
    "def imshow(img):\n",
    "    img = img / 2 + 0.5\n",
    "    npimg = img.numpy()\n",
    "    plt.imshow(np.transpose(npimg, (1, 2, 0)))\n",
    "    plt.show()\n",
    "\n",
    "# Get some random training images with shuffled labels\n",
    "dataiter = iter(trainloader)\n",
    "images, labels = dataiter.next()\n",
    "\n",
    "# Show images and print labels to make sure shuffled\n",
    "imshow(torchvision.utils.make_grid(images[:10]))\n",
    "print('Shuffled Labels: ', ' '.join('%5s' % labels[j].item() for j in range(10)))\n"
   ]
  },
  {
   "cell_type": "code",
   "execution_count": 4,
   "id": "f77c3e3b-339a-41f3-88be-e7b6e00fcb86",
   "metadata": {},
   "outputs": [],
   "source": [
    "#  Model\n",
    "class Net(nn.Module):\n",
    "    def __init__(self):\n",
    "        super(Net, self).__init__()\n",
    "        self.fc1 = nn.Linear(28*28, 256)\n",
    "        self.fc2 = nn.Linear(256, 128)\n",
    "        self.fc3 = nn.Linear(128, 10)\n",
    "\n",
    "    def forward(self, x):\n",
    "        x = x.view(-1, 28*28)\n",
    "        x = torch.relu(self.fc1(x))\n",
    "        x = torch.relu(self.fc2(x))\n",
    "        x = self.fc3(x)\n",
    "        return x\n",
    "\n",
    "net = Net().to(device)"
   ]
  },
  {
   "cell_type": "code",
   "execution_count": 1,
   "id": "d736013b-4430-4b2b-9975-b45e20a3f316",
   "metadata": {},
   "outputs": [
    {
     "ename": "NameError",
     "evalue": "name 'nn' is not defined",
     "output_type": "error",
     "traceback": [
      "\u001b[0;31m---------------------------------------------------------------------------\u001b[0m",
      "\u001b[0;31mNameError\u001b[0m                                 Traceback (most recent call last)",
      "Input \u001b[0;32mIn [1]\u001b[0m, in \u001b[0;36m<cell line: 1>\u001b[0;34m()\u001b[0m\n\u001b[0;32m----> 1\u001b[0m criterion \u001b[38;5;241m=\u001b[39m \u001b[43mnn\u001b[49m\u001b[38;5;241m.\u001b[39mCrossEntropyLoss()\n\u001b[1;32m      2\u001b[0m optimizer \u001b[38;5;241m=\u001b[39m optim\u001b[38;5;241m.\u001b[39mSGD(net\u001b[38;5;241m.\u001b[39mparameters(), lr\u001b[38;5;241m=\u001b[39m\u001b[38;5;241m0.001\u001b[39m, momentum\u001b[38;5;241m=\u001b[39m\u001b[38;5;241m0.9\u001b[39m)\n",
      "\u001b[0;31mNameError\u001b[0m: name 'nn' is not defined"
     ]
    }
   ],
   "source": [
    "# Criterion and optimizer\n",
    "criterion = nn.CrossEntropyLoss()\n",
    "optimizer = optim.SGD(net.parameters(), lr=0.001, momentum=0.9)"
   ]
  },
  {
   "cell_type": "code",
   "execution_count": 6,
   "id": "3ab29f07-3e2b-4087-a84c-efb31ba04caa",
   "metadata": {},
   "outputs": [
    {
     "name": "stdout",
     "output_type": "stream",
     "text": [
      "Epoch 1, Train Loss: 2.3036, Test Loss: 2.3074\n",
      "Epoch 2, Train Loss: 2.3023, Test Loss: 2.3070\n",
      "Epoch 3, Train Loss: 2.3017, Test Loss: 2.3078\n",
      "Epoch 4, Train Loss: 2.3011, Test Loss: 2.3069\n",
      "Epoch 5, Train Loss: 2.3006, Test Loss: 2.3077\n",
      "Epoch 6, Train Loss: 2.3001, Test Loss: 2.3092\n",
      "Epoch 7, Train Loss: 2.2996, Test Loss: 2.3056\n",
      "Epoch 8, Train Loss: 2.2991, Test Loss: 2.3066\n",
      "Epoch 9, Train Loss: 2.2985, Test Loss: 2.3041\n",
      "Epoch 10, Train Loss: 2.2981, Test Loss: 2.3063\n",
      "Epoch 11, Train Loss: 2.2976, Test Loss: 2.3060\n",
      "Epoch 12, Train Loss: 2.2970, Test Loss: 2.3078\n",
      "Epoch 13, Train Loss: 2.2965, Test Loss: 2.3040\n",
      "Epoch 14, Train Loss: 2.2959, Test Loss: 2.3058\n",
      "Epoch 15, Train Loss: 2.2952, Test Loss: 2.3075\n",
      "Epoch 16, Train Loss: 2.2948, Test Loss: 2.3066\n",
      "Epoch 17, Train Loss: 2.2940, Test Loss: 2.3067\n",
      "Epoch 18, Train Loss: 2.2934, Test Loss: 2.3049\n",
      "Epoch 19, Train Loss: 2.2927, Test Loss: 2.2999\n",
      "Epoch 20, Train Loss: 2.2920, Test Loss: 2.2979\n",
      "Epoch 21, Train Loss: 2.2913, Test Loss: 2.3113\n",
      "Epoch 22, Train Loss: 2.2903, Test Loss: 2.3069\n",
      "Epoch 23, Train Loss: 2.2895, Test Loss: 2.2984\n",
      "Epoch 24, Train Loss: 2.2889, Test Loss: 2.3088\n",
      "Epoch 25, Train Loss: 2.2880, Test Loss: 2.3032\n",
      "Epoch 26, Train Loss: 2.2871, Test Loss: 2.3042\n",
      "Epoch 27, Train Loss: 2.2862, Test Loss: 2.2981\n",
      "Epoch 28, Train Loss: 2.2849, Test Loss: 2.3158\n",
      "Epoch 29, Train Loss: 2.2840, Test Loss: 2.3073\n",
      "Epoch 30, Train Loss: 2.2827, Test Loss: 2.2970\n",
      "Epoch 31, Train Loss: 2.2817, Test Loss: 2.2999\n",
      "Epoch 32, Train Loss: 2.2803, Test Loss: 2.3044\n",
      "Epoch 33, Train Loss: 2.2795, Test Loss: 2.3064\n",
      "Epoch 34, Train Loss: 2.2781, Test Loss: 2.2957\n",
      "Epoch 35, Train Loss: 2.2764, Test Loss: 2.3187\n",
      "Epoch 36, Train Loss: 2.2752, Test Loss: 2.3136\n",
      "Epoch 37, Train Loss: 2.2740, Test Loss: 2.3016\n",
      "Epoch 38, Train Loss: 2.2723, Test Loss: 2.2978\n",
      "Epoch 39, Train Loss: 2.2702, Test Loss: 2.2951\n",
      "Epoch 40, Train Loss: 2.2689, Test Loss: 2.2979\n",
      "Epoch 41, Train Loss: 2.2674, Test Loss: 2.3134\n",
      "Epoch 42, Train Loss: 2.2653, Test Loss: 2.3059\n",
      "Epoch 43, Train Loss: 2.2637, Test Loss: 2.3096\n",
      "Epoch 44, Train Loss: 2.2615, Test Loss: 2.3117\n",
      "Epoch 45, Train Loss: 2.2595, Test Loss: 2.3062\n",
      "Epoch 46, Train Loss: 2.2574, Test Loss: 2.3378\n",
      "Epoch 47, Train Loss: 2.2556, Test Loss: 2.3050\n",
      "Epoch 48, Train Loss: 2.2538, Test Loss: 2.3360\n",
      "Epoch 49, Train Loss: 2.2512, Test Loss: 2.3307\n",
      "Epoch 50, Train Loss: 2.2490, Test Loss: 2.3294\n",
      "Epoch 51, Train Loss: 2.2466, Test Loss: 2.3204\n",
      "Epoch 52, Train Loss: 2.2438, Test Loss: 2.3253\n",
      "Epoch 53, Train Loss: 2.2408, Test Loss: 2.3293\n",
      "Epoch 54, Train Loss: 2.2384, Test Loss: 2.3585\n",
      "Epoch 55, Train Loss: 2.2359, Test Loss: 2.3226\n",
      "Epoch 56, Train Loss: 2.2325, Test Loss: 2.3200\n",
      "Epoch 57, Train Loss: 2.2304, Test Loss: 2.3229\n",
      "Epoch 58, Train Loss: 2.2274, Test Loss: 2.3382\n",
      "Epoch 59, Train Loss: 2.2238, Test Loss: 2.3161\n",
      "Epoch 60, Train Loss: 2.2197, Test Loss: 2.3611\n",
      "Epoch 61, Train Loss: 2.2169, Test Loss: 2.3511\n",
      "Epoch 62, Train Loss: 2.2140, Test Loss: 2.3232\n",
      "Epoch 63, Train Loss: 2.2112, Test Loss: 2.3240\n",
      "Epoch 64, Train Loss: 2.2082, Test Loss: 2.3707\n",
      "Epoch 65, Train Loss: 2.2046, Test Loss: 2.3634\n",
      "Epoch 66, Train Loss: 2.2002, Test Loss: 2.3243\n",
      "Epoch 67, Train Loss: 2.1964, Test Loss: 2.3502\n",
      "Epoch 68, Train Loss: 2.1929, Test Loss: 2.3394\n",
      "Epoch 69, Train Loss: 2.1897, Test Loss: 2.4015\n",
      "Epoch 70, Train Loss: 2.1860, Test Loss: 2.3837\n",
      "Epoch 71, Train Loss: 2.1821, Test Loss: 2.3440\n",
      "Epoch 72, Train Loss: 2.1768, Test Loss: 2.3931\n",
      "Epoch 73, Train Loss: 2.1749, Test Loss: 2.3892\n",
      "Epoch 74, Train Loss: 2.1687, Test Loss: 2.3461\n",
      "Epoch 75, Train Loss: 2.1655, Test Loss: 2.4319\n",
      "Epoch 76, Train Loss: 2.1619, Test Loss: 2.4183\n",
      "Epoch 77, Train Loss: 2.1562, Test Loss: 2.4192\n",
      "Epoch 78, Train Loss: 2.1517, Test Loss: 2.3798\n",
      "Epoch 79, Train Loss: 2.1475, Test Loss: 2.3631\n",
      "Epoch 80, Train Loss: 2.1455, Test Loss: 2.4104\n",
      "Epoch 81, Train Loss: 2.1399, Test Loss: 2.4389\n",
      "Epoch 82, Train Loss: 2.1339, Test Loss: 2.4035\n",
      "Epoch 83, Train Loss: 2.1281, Test Loss: 2.4114\n",
      "Epoch 84, Train Loss: 2.1260, Test Loss: 2.3669\n",
      "Epoch 85, Train Loss: 2.1188, Test Loss: 2.4839\n",
      "Epoch 86, Train Loss: 2.1149, Test Loss: 2.3755\n",
      "Epoch 87, Train Loss: 2.1092, Test Loss: 2.4774\n",
      "Epoch 88, Train Loss: 2.1067, Test Loss: 2.4080\n",
      "Epoch 89, Train Loss: 2.0999, Test Loss: 2.4377\n",
      "Epoch 90, Train Loss: 2.0938, Test Loss: 2.4303\n",
      "Epoch 91, Train Loss: 2.0908, Test Loss: 2.4266\n",
      "Epoch 92, Train Loss: 2.0841, Test Loss: 2.5007\n",
      "Epoch 93, Train Loss: 2.0801, Test Loss: 2.4408\n",
      "Epoch 94, Train Loss: 2.0746, Test Loss: 2.4626\n",
      "Epoch 95, Train Loss: 2.0689, Test Loss: 2.4110\n",
      "Epoch 96, Train Loss: 2.0656, Test Loss: 2.4353\n",
      "Epoch 97, Train Loss: 2.0594, Test Loss: 2.4406\n",
      "Epoch 98, Train Loss: 2.0542, Test Loss: 2.4599\n",
      "Epoch 99, Train Loss: 2.0486, Test Loss: 2.5033\n",
      "Epoch 100, Train Loss: 2.0425, Test Loss: 2.4949\n",
      "Finished Training\n"
     ]
    }
   ],
   "source": [
    "# Initialize lists to track the losses\n",
    "train_losses = []\n",
    "test_losses = []\n",
    "\n",
    "for epoch in range(100):\n",
    "    # train the model\n",
    "    net.train()\n",
    "    running_loss = 0.0\n",
    "    for i, data in enumerate(trainloader, 0):\n",
    "        inputs, labels = data[0].to(device), data[1].to(device)\n",
    "\n",
    "        optimizer.zero_grad()\n",
    "\n",
    "        outputs = net(inputs)\n",
    "        loss = criterion(outputs, labels)\n",
    "        loss.backward()\n",
    "        optimizer.step()\n",
    "\n",
    "        running_loss += loss.item()\n",
    "    train_loss = running_loss / len(trainloader)\n",
    "    train_losses.append(train_loss)\n",
    "\n",
    "    #eval mode\n",
    "    net.eval()\n",
    "    test_loss = 0.0\n",
    "    with torch.no_grad():\n",
    "        for data in testloader:\n",
    "            images, labels = data[0].to(device), data[1].to(device)\n",
    "            outputs = net(images)\n",
    "            loss = criterion(outputs, labels)\n",
    "            test_loss += loss.item()\n",
    "    test_loss /= len(testloader)\n",
    "    test_losses.append(test_loss)\n",
    "\n",
    "    print(f'Epoch {epoch+1}, Train Loss: {train_loss:.4f}, Test Loss: {test_loss:.4f}')"
   ]
  },
  {
   "cell_type": "code",
   "execution_count": 7,
   "id": "6eedeebf-47d7-4547-a6a4-1b5e7a7813c2",
   "metadata": {},
   "outputs": [
    {
     "data": {
      "image/png": "[encoded data removed]",
      "text/plain": [
       "<Figure size 720x432 with 1 Axes>"
      ]
     },
     "metadata": {
      "needs_background": "light"
     },
     "output_type": "display_data"
    }
   ],
   "source": [
    "# Plotting the data\n",
    "plt.figure(figsize=(10, 6))\n",
    "plt.plot(train_losses, label='Train')\n",
    "plt.plot(test_losses, label='Test')\n",
    "plt.xlabel('Epoch')\n",
    "plt.ylabel('Loss')\n",
    "plt.title('Training and Test Loss Across Epochs')\n",
    "plt.legend()\n",
    "plt.show()"
   ]
  }
 ],
 "metadata": {
  "kernelspec": {
   "display_name": "Python 3 (ipykernel)",
   "language": "python",
   "name": "python3"
  },
  "language_info": {
   "codemirror_mode": {
    "name": "ipython",
    "version": 3
   },
   "file_extension": ".py",
   "mimetype": "text/x-python",
   "name": "python",
   "nbconvert_exporter": "python",
   "pygments_lexer": "ipython3",
   "version": "3.9.12"
  }
 },
 "nbformat": 4,
 "nbformat_minor": 5
}
